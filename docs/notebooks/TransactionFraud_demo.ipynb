{
 "cells": [
  {
   "cell_type": "markdown",
   "metadata": {},
   "source": [
    "Connect to TigerGraph and TigerGraph GraphRAG"
   ]
  },
  {
   "cell_type": "code",
   "execution_count": 1,
   "metadata": {},
   "outputs": [],
   "source": [
    "from pyTigerGraph import TigerGraphConnection\n",
    "\n",
    "conn = TigerGraphConnection(\n",
    "    host=\"https://YOUR_DB_ADDRESS\", \n",
    "    graphname=\"Transaction_Fraud\", \n",
    "    username=\"YOUR_DB_USERNAME\", \n",
    "    password=\"YOUR_DB_PASSWORD\"\n",
    ")\n",
    "\n",
    "conn.getToken()\n",
    "\n",
    "conn.ai.configureGraphRAGHost(hostname=\"http://GRAPHRAG_ADDRESS\")"
   ]
  },
  {
   "cell_type": "markdown",
   "metadata": {},
   "source": [
    "List of questions:\n",
    "1. Find all transactions, from 2/1/21 to 5/1/21, above average amount for that card. Sort the results.\n",
    "\n",
    "2. Provide more details about the transaction 871054.\n",
    "\n",
    "3. What is the average transaction amount for the card 4039101933538921 used in this transaction over the past 6 months?\n",
    "\n",
    "4. What do we know about the merchant fraud_Kuhn LLC involved in the transaction 871054?\n",
    "\n",
    "5. Are there any activities of the user associated with the transaction 871054 that might be interesting to look into for further investigation? "
   ]
  },
  {
   "cell_type": "code",
   "execution_count": 2,
   "metadata": {},
   "outputs": [
    {
     "name": "stdout",
     "output_type": "stream",
     "text": [
      "Run 1:\n",
      "The transactions from 2/1/21 to 5/1/21 above average amount for that card are as follows: Transaction with id 39843 on 2021-04-17 17:36:29 with amount 7855.36, Transaction with id 871054 on 2021-02-02 00:00:00 with amount 5321.52, Transaction with id 40831 on 2021-04-24 23:45:10 with amount 2934.13, Transaction with id 34336 on 2021-04-24 12:24:53 with amount 4935.42, Transaction with id 473824 on 2021-04-18 14:29:51 with amount 3713.09, Transaction with id 7815 on 2021-04-17 16:05:56 with amount 6044.24, Transaction with id 769 on 2021-04-17 23:31:10 with amount 2802.55.\n",
      "Transaction 871054 is a payment transaction that occurred at 2021-02-02 00:00:00. The amount of the transaction was 5321.52. It is marked as a fraudulent transaction. There are no repeated cards, merchant transactions, or common code transactions associated with this transaction. The transaction does not have any merchant category, occupation, or gender associated with it. The age and city population related to this transaction are also not available.\n",
      "The average transaction amount for the card number 4039101933538921 over the past 6 months is 82.47301270417434.\n",
      "The merchant involved in the transaction 871054 is named fraud_Kuhn LLC. This merchant falls under the 'home' category. The merchant's Pagerank Score is 1.235146 and it belongs to the community with the ID 13631497. However, the size of this community is 0.\n",
      "Yes, there are two activities associated with the transaction 871054 that might be interesting for further investigation. The first activity is a 'Buyer address update', indicating that the buyer has recently moved to another state. The second activity is a 'Card average amount anomaly', suggesting that the transaction amount is significantly larger than the average amount typically spent using the card.\n",
      "\n",
      "Run 2:\n",
      "The transactions from 2/1/21 to 5/1/21 that were above the average amount for that card are as follows: Transaction ID 39843 on 2021-04-17 with an amount of 7855.36, Transaction ID 40831 on 2021-04-24 with an amount of 2934.13, Transaction ID 871054 on 2021-02-02 with an amount of 5321.52, Transaction ID 473824 on 2021-04-18 with an amount of 3713.09, Transaction ID 34336 on 2021-04-24 with an amount of 4935.42, Transaction ID 7815 on 2021-04-17 with an amount of 6044.24, and Transaction ID 769 on 2021-04-17 with an amount of 2802.55.\n",
      "Transaction 871054 is a payment transaction that occurred at the time 2021-02-02 00:00:00. The amount involved in this transaction is 5321.52. This transaction has been flagged as fraudulent. There are no repeated cards, common merchant transactions, or common code transactions associated with this transaction. The merchant category, occupation, and gender associated with this transaction are not specified. The age and city population are also not provided.\n",
      "The average transaction amount for the card 4039101933538921 over the past 6 months is 82.47301270417434.\n",
      "The merchant involved in the transaction 871054 is named fraud_Kuhn LLC. This merchant falls under the 'home' category. It has a Pagerank Score of 1.235146 and is part of the community with the ID 13631497. However, the size of this community is 0.\n",
      "Yes, there are two activities associated with the transaction 871054 that might be interesting for further investigation. The first activity is a 'Buyer address update' indicating that the buyer has recently moved to another state. The second activity is a 'Card average amount anomaly' which suggests that the transaction amount is significantly larger than the average amount typically spent using the card.\n",
      "\n",
      "Run 3:\n",
      "The transactions from 2/1/21 to 5/1/21 above the average amount for that card are as follows: Transaction ID 769 on 2021-04-17 with an amount of 2802.55, Transaction ID 473824 on 2021-04-18 with an amount of 3713.09, Transaction ID 871054 on 2021-02-02 with an amount of 5321.52, Transaction ID 39843 on 2021-04-17 with an amount of 7855.36, Transaction ID 7815 on 2021-04-17 with an amount of 6044.24, Transaction ID 40831 on 2021-04-24 with an amount of 2934.13, and Transaction ID 34336 on 2021-04-24 with an amount of 4935.42.\n",
      "Transaction 871054 is a payment transaction that occurred at 2021-02-02 00:00:00. The amount involved in the transaction is 5321.52. The transaction is marked as fraudulent. There are no repeated cards, common merchant transactions, common card transactions, or merchant categories involved in this transaction. The transaction does not have any in-degree or out-degree. The age, city population, occupation, and gender related to this transaction are not specified.\n",
      "The average transaction amount for the card 4039101933538921 over the past 6 months is 82.47301270417434.\n",
      "The merchant involved in the transaction 871054 is named fraud_Kuhn LLC. This merchant falls under the 'home' category. The merchant has a Pagerank Score of 1.235146. The Community ID associated with this merchant is 13631497, however, the community size is 0.\n",
      "Yes, there are two activities associated with the transaction 871054 that might be interesting for further investigation. The first activity is a 'Buyer address update' indicating that the buyer has recently moved to another state. The second activity is a 'Card average amount anomaly' which suggests that the transaction amount is significantly larger than the average amount typically spent using the card.\n",
      "\n",
      "Run 4:\n",
      "The transactions from 2/1/21 to 5/1/21 that were above the average amount for that card are as follows: Transaction ID 40831 on 2021-04-24 with an amount of 2934.13, Transaction ID 871054 on 2021-02-02 with an amount of 5321.52, Transaction ID 39843 on 2021-04-17 with an amount of 7855.36, Transaction ID 769 on 2021-04-17 with an amount of 2802.55, Transaction ID 473824 on 2021-04-18 with an amount of 3713.09, Transaction ID 34336 on 2021-04-24 with an amount of 4935.42, and Transaction ID 7815 on 2021-04-17 with an amount of 6044.24.\n",
      "Transaction 871054 is a payment transaction that occurred at 2021-02-02 00:00:00. The amount involved in the transaction is 5321.52. The transaction is marked as fraudulent. There are no repeated cards, common merchant transactions, common card transactions, or merchant categories involved in this transaction. The transaction does not have any in-degree or out-degree. The age, city population, occupation, and gender related to this transaction are not specified.\n",
      "The average transaction amount for the card 4039101933538921 over the past 6 months is 82.47301270417434.\n",
      "The merchant involved in the transaction 871054 is named fraud_Kuhn LLC. This merchant falls under the 'home' category. It has a Pagerank Score of 1.235146 and is part of the community with the ID 13631497. However, the size of this community is 0.\n",
      "Yes, there are two activities associated with the transaction 871054 that might be interesting for further investigation. The first activity is a 'Buyer address update', indicating that the buyer has recently moved to another state. The second activity is a 'Card average amount anomaly', suggesting that the transaction amount is significantly larger than the average amount typically spent using the card.\n",
      "\n",
      "Run 5:\n",
      "The transactions from 2/1/21 to 5/1/21 above average amount for that card are as follows: Transaction with id 39843 on 2021-04-17 17:36:29 with amount 7855.36, Transaction with id 40831 on 2021-04-24 23:45:10 with amount 2934.13, Transaction with id 473824 on 2021-04-18 14:29:51 with amount 3713.09, Transaction with id 871054 on 2021-02-02 00:00:00 with amount 5321.52, Transaction with id 769 on 2021-04-17 23:31:10 with amount 2802.55, Transaction with id 7815 on 2021-04-17 16:05:56 with amount 6044.24, Transaction with id 34336 on 2021-04-24 12:24:53 with amount 4935.42.\n",
      "Transaction 871054 is a payment transaction that occurred at 00:00:00 on 2021-02-02. The amount of the transaction was 5321.52. This transaction has been flagged as fraudulent. There are no repeated cards, common merchant transactions, or common credit card transactions associated with this transaction. The transaction does not have any merchant category information, age, city population, occupation, or gender associated with it.\n",
      "The average transaction amount for the card 4039101933538921 over the past 6 months is 82.47301270417434.\n",
      "The merchant involved in the transaction 871054 is named fraud_Kuhn LLC. This merchant falls under the 'home' category. The merchant has a Pagerank Score of 1.235146 and is part of a community with the ID 13631497. However, the size of this community is 0.\n",
      "Yes, there are two activities associated with the transaction 871054 that might be interesting for further investigation. The first activity is a 'Buyer address update' indicating that the buyer has recently moved to another state. The second activity is a 'Card average amount anomaly' which suggests that the transaction amount is significantly larger than the average amount typically spent using the card.\n",
      "\n",
      "Average execution time for question 'Find all transactions, from 2/1/21 to 5/1/21 above average amount for that card. Sort the results.' over 5 runs: 37.3324 seconds\n",
      "Average execution time for question 'Provide more details about the transaction 871054.' over 5 runs: 43.4484 seconds\n",
      "Average execution time for question 'What is the average transaction amount for the card used 4039101933538921 in this transaction over the past 6 months?' over 5 runs: 20.6316 seconds\n",
      "Average execution time for question 'Provide more details about the merchant fraud_Kuhn LLC involved in the transaction 871054' over 5 runs: 24.8842 seconds\n",
      "Average execution time for question 'Are there any activities of the user associated with the transaction 871054 that might be interesting to look into for further investigation?' over 5 runs: 35.2934 seconds\n"
     ]
    }
   ],
   "source": [
    "import json\n",
    "import time\n",
    "import requests\n",
    "from requests.auth import HTTPBasicAuth\n",
    "\n",
    "num_runs = 5\n",
    "\n",
    "questions = [\n",
    "    \"Find all transactions, from 2/1/21 to 5/1/21 above average amount for that card. Sort the results.\",\n",
    "    \"Provide more details about the transaction 871054.\",\n",
    "    \"What is the average transaction amount for the card used 4039101933538921 in this transaction over the past 6 months?\",\n",
    "    \"Provide more details about the merchant fraud_Kuhn LLC involved in the transaction 871054\",\n",
    "    \"Are there any activities of the user associated with the transaction 871054 that might be interesting to look into for further investigation?\"\n",
    "]\n",
    "\n",
    "# Dictionary to store execution times for each question\n",
    "question_execution_times = {question: [] for question in questions}\n",
    "\n",
    "for run_number in range(1, num_runs + 1):\n",
    "    print(f\"Run {run_number}:\")\n",
    "    for question in questions:\n",
    "        start_time = time.time()\n",
    "        payload = {\n",
    "            \"query\": question\n",
    "        }\n",
    "\n",
    "        res = requests.post(\"http://GRAPHRAG_ADDRESS/Transaction_Fraud/query_with_history\", \n",
    "                            json=payload, \n",
    "                            auth=HTTPBasicAuth(conn.username, conn.password)\n",
    "        )\n",
    "        print (json.loads(res.text).get(\"natural_language_response\", \"no answer\"))\n",
    "        end_time = time.time()\n",
    "\n",
    "        execution_time = end_time - start_time\n",
    "        question_execution_times[question].append(execution_time)\n",
    "\n",
    "    print(\"\")\n",
    "\n",
    "for question, times in question_execution_times.items():\n",
    "    average_time = sum(times) / num_runs\n",
    "    print(f\"Average execution time for question '{question}' over {num_runs} runs: {average_time:.4f} seconds\")"
   ]
  },
  {
   "cell_type": "markdown",
   "metadata": {},
   "source": []
  }
 ],
 "metadata": {
  "kernelspec": {
   "display_name": "pytg_dev",
   "language": "python",
   "name": "python3"
  },
  "language_info": {
   "codemirror_mode": {
    "name": "ipython",
    "version": 3
   },
   "file_extension": ".py",
   "mimetype": "text/x-python",
   "name": "python",
   "nbconvert_exporter": "python",
   "pygments_lexer": "ipython3",
   "version": "3.11.9"
  }
 },
 "nbformat": 4,
 "nbformat_minor": 2
}
